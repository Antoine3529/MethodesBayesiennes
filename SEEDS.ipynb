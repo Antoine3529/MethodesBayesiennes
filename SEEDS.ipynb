{
 "cells": [
  {
   "cell_type": "code",
   "execution_count": 65,
   "id": "2d0a40f2",
   "metadata": {},
   "outputs": [],
   "source": [
    "# Seed data\n",
    "\n",
    "N = 21\n",
    "r = np.array([10, 23, 23, 26, 17, 5, 53, 55, 32, 46, 10, 8, 10, 8, 23, 0, 3, 22, 15, 32, 3])\n",
    "n = np.array([39, 62, 81, 51, 39, 6, 74, 72, 51, 79, 13, 16, 30, 28, 45, 4, 12, 41, 30, 51, 7])\n",
    "x_1 = np.array([0, 0, 0, 0, 0, 0, 0, 0, 0, 0, 0, 1, 1, 1, 1, 1, 1, 1, 1, 1, 1])\n",
    "x_2 = np.array([0, 0, 0, 0, 0, 1, 1, 1, 1, 1, 1, 0, 0, 0, 0, 0, 1, 1, 1, 1, 1])\n",
    "\n",
    "\n",
    "# Seed Init\n",
    "alpha_0 = 0\n",
    "alpha_1 = 0\n",
    "alpha_2 = 0\n",
    "alpha_12 = 0\n",
    "tau = 10\n",
    "b = [0, 0, 0, 0, 0, 0, 0, 0, 0, 0, 0, 0, 0, 0, 0, 0, 0, 0, 0, 0,0]\n"
   ]
  },
  {
   "cell_type": "code",
   "execution_count": 32,
   "id": "00f9dbf0",
   "metadata": {},
   "outputs": [],
   "source": [
    "import numpy as np\n",
    "import scipy.stats as stats"
   ]
  },
  {
   "cell_type": "code",
   "execution_count": null,
   "id": "9e812e7b",
   "metadata": {},
   "outputs": [],
   "source": [
    "##Brouilllon gibbs sampler\n",
    "\n",
    "def seeds(nchain, data, prop_sd, init):\n",
    "    chain = np.zeros((nchain + 1, 5))\n",
    "    chain[0,:] = init\n",
    "    acc_rates = np.zeros(5)\n",
    "    ##Colonne:alpha_0 ,alpha_1,alpha_2 ,alpha_12 ,tau \n",
    "    \n",
    "    alpha_0 ,alpha_1,alpha_2 ,alpha_12 ,tau = hyper_param\n",
    "    ###Recupere les hyperparamatres\n",
    "    \n",
    "    ##Iteration\n",
    "    for iteration in range(nchain):\n",
    "        alpha_0 ,alpha_1,alpha_2 ,alpha_12 ,tau = chain[iteration,:]\n",
    "        \n",
    "        \n",
    "        ## Mise à jour de alpha0\n",
    "        prop= \n",
    "        \n",
    "        top=\n",
    "        \n",
    "        bottom=\n",
    "        \n",
    "        acc_prob=\n",
    "        \n",
    "        ## Mise à jour de alpha1\n",
    "        prop=\n",
    "        \n",
    "        top=\n",
    "        \n",
    "        bottom=\n",
    "        \n",
    "        acc_prob=\n",
    "        \n",
    "        ## Mise à jour de alpha2\n",
    "        prop=\n",
    "        \n",
    "        top=\n",
    "        \n",
    "        bottom=\n",
    "        \n",
    "        acc_prob=\n",
    "        \n",
    "        ## Mise à jour de alpha12\n",
    "        prop=\n",
    "        \n",
    "        top=\n",
    "        \n",
    "        bottom=\n",
    "        \n",
    "        acc_prob=\n",
    "\n",
    "        ## Mise à jour de tau\n",
    "        prop=\n",
    "        \n",
    "        top=\n",
    "        \n",
    "        bottom=\n",
    "        \n",
    "        acc_prob="
   ]
  },
  {
   "cell_type": "code",
   "execution_count": 66,
   "id": "4acbcfad",
   "metadata": {},
   "outputs": [],
   "source": [
    "####Rien a voir tentative de faire le même modele que celui sur R\n",
    "def sigmoid(x):\n",
    "    return 1/(1+np.exp(-x))\n",
    "\n",
    "\n",
    "def model(r, x1, x2, n, n_iter=2000, burn_in=1000):\n",
    "    ###Initialisation\n",
    "    N = len(r)\n",
    "    alpha0 = 0\n",
    "    alpha1 = 0\n",
    "    alpha2 = 0\n",
    "    alpha12 = 0\n",
    "    tau = 10\n",
    "    sigma=1/tau\n",
    "    b = [0, 0, 0, 0, 0, 0, 0, 0, 0, 0, 0, 0, 0, 0, 0, 0, 0, 0, 0, 0,0]\n",
    "\n",
    "    p = np.zeros(N)\n",
    "    \n",
    "    for i in range(N):\n",
    "        p[i] = np.random.binomial(n=n[i], p=0.5)        # Echantillonage\n",
    "\n",
    "        \n",
    "    # Boucle principale\n",
    "    for j in range(n_iter):\n",
    "        b = np.random.normal(loc=0.0, scale=sigma, size=N)        # Echantillonnage des erreurs aléatoires\n",
    "\n",
    "        for i in range(N):\n",
    "            w = alpha0 + alpha1 * x1[i] + alpha2 * x2[i] + alpha12 * x1[i] * x2[i] + b[i]\n",
    "            p[i] = np.random.binomial(n=n[i], p=sigmoid(w))\n",
    "\n",
    "        alpha0 = np.random.normal(loc=np.mean(p - alpha1 * x1 - alpha2 * x2 - alpha12 * x1 * x2 - b),\n",
    "                                scale=sigma / np.sqrt(N))\n",
    "        alpha1 = np.random.normal(loc=np.mean((p - alpha0 - alpha2 * x2 - alpha12 * x1 * x2) * x1),\n",
    "                                scale=sigma / np.sqrt(np.sum(x1 ** 2)))\n",
    "        alpha2 = np.random.normal(loc=np.mean((p - alpha0 - alpha1 * x1 - alpha12 * x1 * x2) * x2),\n",
    "                                scale=sigma / np.sqrt(np.sum(x2 ** 2)))\n",
    "        alpha12 = np.random.normal(loc=np.mean((p - alpha0 - alpha1 * x1 - alpha2 * x2) * x1 * x2),\n",
    "                                 scale=sigma / np.sqrt(np.sum(x1 ** 2 * x2 ** 2)))\n",
    "        tau = np.random.gamma.rvs(a=0.001 + N / 2, scale=1 / (0.001 + np.sum(b ** 2) / 2))\n",
    "        sigma = 1 / np.sqrt(tau)\n",
    "\n",
    "    alpha0_samples = np.zeros(n_iter - burn_in)\n",
    "    alpha1_samples = np.zeros(n_iter - burn_in)\n",
    "    alpha2_samples = np.zeros(n_iter - burn_in)\n",
    "    alpha12_samples = np.zeros(n_iter - burn_in)\n",
    "    tau_samples = np.zeros(n_iter - burn_in)\n",
    "    for i in range(burn_in, n_iter):\n",
    "        b = np.random.normal(loc=0.0, scale=sigma, size=N)\n",
    "        for j in range(N):\n",
    "            w = alpha0 + alpha1 * x1[j] + alpha2 * x2[j] + alpha12 * x1[j] * x2[j] + b[j]\n",
    "            p[j] = np.random.binomial(n=n[j], p=sigmoid(w))\n",
    "\n",
    "        alpha0_samples[i - burn_in] = alpha0\n",
    "        alpha1_samples[i - burn_in] = alpha1\n",
    "        alpha2_samples[i - burn_in] = alpha2\n",
    "        alpha12_samples[i - burn_in] = alpha12\n",
    "        tau_samples[i - burn_in] = tau\n",
    "\n",
    "    return {'alpha0': alpha0_samples, 'alpha1': alpha1_samples, 'alpha2': alpha2_samples,\n",
    "        'alpha12': alpha12_samples, 'tau': tau_samples}"
   ]
  },
  {
   "cell_type": "code",
   "execution_count": 67,
   "id": "88c9f3e0",
   "metadata": {},
   "outputs": [
    {
     "ename": "AttributeError",
     "evalue": "'builtin_function_or_method' object has no attribute 'rvs'",
     "output_type": "error",
     "traceback": [
      "\u001b[1;31m---------------------------------------------------------------------------\u001b[0m",
      "\u001b[1;31mAttributeError\u001b[0m                            Traceback (most recent call last)",
      "Cell \u001b[1;32mIn[67], line 1\u001b[0m\n\u001b[1;32m----> 1\u001b[0m \u001b[43mmodel\u001b[49m\u001b[43m(\u001b[49m\u001b[43mr\u001b[49m\u001b[43m,\u001b[49m\u001b[43m \u001b[49m\u001b[43mx_1\u001b[49m\u001b[43m,\u001b[49m\u001b[43m \u001b[49m\u001b[43mx_2\u001b[49m\u001b[43m,\u001b[49m\u001b[43m \u001b[49m\u001b[43mn\u001b[49m\u001b[43m,\u001b[49m\u001b[43m \u001b[49m\u001b[43mn_iter\u001b[49m\u001b[38;5;241;43m=\u001b[39;49m\u001b[38;5;241;43m2000\u001b[39;49m\u001b[43m,\u001b[49m\u001b[43m \u001b[49m\u001b[43mburn_in\u001b[49m\u001b[38;5;241;43m=\u001b[39;49m\u001b[38;5;241;43m1000\u001b[39;49m\u001b[43m)\u001b[49m\n",
      "Cell \u001b[1;32mIn[66], line 39\u001b[0m, in \u001b[0;36mmodel\u001b[1;34m(r, x1, x2, n, n_iter, burn_in)\u001b[0m\n\u001b[0;32m     35\u001b[0m     alpha2 \u001b[38;5;241m=\u001b[39m np\u001b[38;5;241m.\u001b[39mrandom\u001b[38;5;241m.\u001b[39mnormal(loc\u001b[38;5;241m=\u001b[39mnp\u001b[38;5;241m.\u001b[39mmean((p \u001b[38;5;241m-\u001b[39m alpha0 \u001b[38;5;241m-\u001b[39m alpha1 \u001b[38;5;241m*\u001b[39m x1 \u001b[38;5;241m-\u001b[39m alpha12 \u001b[38;5;241m*\u001b[39m x1 \u001b[38;5;241m*\u001b[39m x2) \u001b[38;5;241m*\u001b[39m x2),\n\u001b[0;32m     36\u001b[0m                             scale\u001b[38;5;241m=\u001b[39msigma \u001b[38;5;241m/\u001b[39m np\u001b[38;5;241m.\u001b[39msqrt(np\u001b[38;5;241m.\u001b[39msum(x2 \u001b[38;5;241m*\u001b[39m\u001b[38;5;241m*\u001b[39m \u001b[38;5;241m2\u001b[39m)))\n\u001b[0;32m     37\u001b[0m     alpha12 \u001b[38;5;241m=\u001b[39m np\u001b[38;5;241m.\u001b[39mrandom\u001b[38;5;241m.\u001b[39mnormal(loc\u001b[38;5;241m=\u001b[39mnp\u001b[38;5;241m.\u001b[39mmean((p \u001b[38;5;241m-\u001b[39m alpha0 \u001b[38;5;241m-\u001b[39m alpha1 \u001b[38;5;241m*\u001b[39m x1 \u001b[38;5;241m-\u001b[39m alpha2 \u001b[38;5;241m*\u001b[39m x2) \u001b[38;5;241m*\u001b[39m x1 \u001b[38;5;241m*\u001b[39m x2),\n\u001b[0;32m     38\u001b[0m                              scale\u001b[38;5;241m=\u001b[39msigma \u001b[38;5;241m/\u001b[39m np\u001b[38;5;241m.\u001b[39msqrt(np\u001b[38;5;241m.\u001b[39msum(x1 \u001b[38;5;241m*\u001b[39m\u001b[38;5;241m*\u001b[39m \u001b[38;5;241m2\u001b[39m \u001b[38;5;241m*\u001b[39m x2 \u001b[38;5;241m*\u001b[39m\u001b[38;5;241m*\u001b[39m \u001b[38;5;241m2\u001b[39m)))\n\u001b[1;32m---> 39\u001b[0m     tau \u001b[38;5;241m=\u001b[39m \u001b[43mnp\u001b[49m\u001b[38;5;241;43m.\u001b[39;49m\u001b[43mrandom\u001b[49m\u001b[38;5;241;43m.\u001b[39;49m\u001b[43mgamma\u001b[49m\u001b[38;5;241;43m.\u001b[39;49m\u001b[43mrvs\u001b[49m(a\u001b[38;5;241m=\u001b[39m\u001b[38;5;241m0.001\u001b[39m \u001b[38;5;241m+\u001b[39m N \u001b[38;5;241m/\u001b[39m \u001b[38;5;241m2\u001b[39m, scale\u001b[38;5;241m=\u001b[39m\u001b[38;5;241m1\u001b[39m \u001b[38;5;241m/\u001b[39m (\u001b[38;5;241m0.001\u001b[39m \u001b[38;5;241m+\u001b[39m np\u001b[38;5;241m.\u001b[39msum(b \u001b[38;5;241m*\u001b[39m\u001b[38;5;241m*\u001b[39m \u001b[38;5;241m2\u001b[39m) \u001b[38;5;241m/\u001b[39m \u001b[38;5;241m2\u001b[39m))\n\u001b[0;32m     40\u001b[0m     sigma \u001b[38;5;241m=\u001b[39m \u001b[38;5;241m1\u001b[39m \u001b[38;5;241m/\u001b[39m np\u001b[38;5;241m.\u001b[39msqrt(tau)\n\u001b[0;32m     42\u001b[0m alpha0_samples \u001b[38;5;241m=\u001b[39m np\u001b[38;5;241m.\u001b[39mzeros(n_iter \u001b[38;5;241m-\u001b[39m burn_in)\n",
      "\u001b[1;31mAttributeError\u001b[0m: 'builtin_function_or_method' object has no attribute 'rvs'"
     ]
    }
   ],
   "source": [
    "model(r, x_1, x_2, n, n_iter=2000, burn_in=1000)"
   ]
  },
  {
   "cell_type": "code",
   "execution_count": 34,
   "id": "abaf41fa",
   "metadata": {},
   "outputs": [
    {
     "data": {
      "text/plain": [
       "(21,)"
      ]
     },
     "execution_count": 34,
     "metadata": {},
     "output_type": "execute_result"
    }
   ],
   "source": [
    "x1.shape"
   ]
  },
  {
   "cell_type": "markdown",
   "id": "4f516cc3",
   "metadata": {},
   "source": [
    "## Tentative de metropolis hastings"
   ]
  },
  {
   "cell_type": "markdown",
   "id": "47592eb2",
   "metadata": {},
   "source": [
    "Défini une fonction log_posterior qui calcule la probabilité log-posterior pour le modèle. Cette fonction prend en entrée les valeurs des paramètres alpha0, alpha1, alpha2, alpha12, tau, ainsi que les données r, n, x1, x2 et N. La fonction tire d'abord un échantillon de b d'une distribution normale de moyenne 0 et d'écart-type sqrt(tau),calcule ensuite la probabilité p de succès pour chaque observation, sur la base du modèle de régression logistique , ensuite on calcule la log-vraisemblance et la log-priorité, et je renvoie leur somme, qui est la probabilité log-postérieure\n",
    "\n",
    "\n"
   ]
  },
  {
   "cell_type": "code",
   "execution_count": 68,
   "id": "a78ded41",
   "metadata": {},
   "outputs": [],
   "source": [
    "def log_posterior(alpha0, alpha1, alpha2, alpha12, tau, r, n, x1, x2, N):\n",
    "    b = np.random.normal(0.0, np.sqrt(tau), N)\n",
    "    p = np.zeros(N)\n",
    "    for i in range(N):\n",
    "        p[i] = np.exp(alpha0 + alpha1 * x1[i] + alpha2 * x2[i] +\n",
    "                      alpha12 * x1[i] * x2[i] + b[i]) / (1 + np.exp(alpha0 + alpha1 * x1[i] + alpha2 * x2[i] +\n",
    "                      alpha12 * x1[i] * x2[i] + b[i]))\n",
    "    log_likelihood = np.sum(np.log(p) * r + np.log(1 - p) * (n - r))\n",
    "    log_prior = -0.5 * np.log(tau) - 0.5 * tau\n",
    "    return log_likelihood + log_prior"
   ]
  },
  {
   "cell_type": "markdown",
   "id": "fb6f2e19",
   "metadata": {},
   "source": [
    "Fonction pour metropolis hastings"
   ]
  },
  {
   "cell_type": "code",
   "execution_count": 69,
   "id": "30585038",
   "metadata": {},
   "outputs": [],
   "source": [
    "def metropolis_hastings(initial_values, iterations, proposal_sd, r, n, x1, x2, N):\n",
    "    # Initialisation\n",
    "    alpha0, alpha1, alpha2, alpha12, tau = initial_values\n",
    "    accepted_values = np.zeros((iterations, 5))\n",
    "    \n",
    "    for i in range(iterations):\n",
    "        # Propose une nouvelle valeur avec la loi normale\n",
    "        proposed_values = np.random.normal([alpha0, alpha1, alpha2, alpha12, tau], proposal_sd)\n",
    "        \n",
    "        # Calcul la proba d'acpetation\n",
    "        log_acceptance_ratio = log_posterior(proposed_values[0], proposed_values[1], proposed_values[2],proposed_values[3], proposed_values[4], r, n, x1, x2, N) - log_posterior(alpha0, alpha1, alpha2, alpha12, tau, r, n, x1, x2, N)\n",
    "        \n",
    "        #\n",
    "        u = np.log(np.random.uniform())\n",
    "        \n",
    "        # Test pour accepte la proposition\n",
    "        if u < log_acceptance_ratio:\n",
    "            alpha0, alpha1, alpha2, alpha12, tau = proposed_values\n",
    "            accepted_values[i,:] = proposed_values\n",
    "        else:\n",
    "            accepted_values[i,:] = [alpha0, alpha1, alpha2, alpha12, tau]\n",
    "    \n",
    "    return accepted_values\n"
   ]
  },
  {
   "cell_type": "code",
   "execution_count": 70,
   "id": "136c050c",
   "metadata": {},
   "outputs": [],
   "source": [
    "init = [alpha_0,alpha_1, alpha_2, alpha_12,tau]\n",
    "iterations = 1000\n",
    "proposal_sd = [0.1, 0.1, 0.1, 0.1, 0.1]\n",
    "\n",
    "accepted_values = metropolis_hastings(initial_values, iterations, proposal_sd, r, n, x1, x2, N)"
   ]
  },
  {
   "cell_type": "code",
   "execution_count": 71,
   "id": "92fea4a7",
   "metadata": {},
   "outputs": [
    {
     "data": {
      "image/png": "[encoded data removed]",
      "text/plain": [
       "<Figure size 1200x800 with 6 Axes>"
      ]
     },
     "metadata": {},
     "output_type": "display_data"
    }
   ],
   "source": [
    "import matplotlib.pyplot as plt\n",
    "\n",
    "#Distribution des paramètres\n",
    "fig, axs = plt.subplots(nrows=2, ncols=3, figsize=(12, 8))\n",
    "axs[0, 0].hist(accepted_values[:, 0], bins=30)\n",
    "axs[0, 0].set_xlabel('alpha0')\n",
    "axs[0, 1].hist(accepted_values[:, 1], bins=30)\n",
    "axs[0, 1].set_xlabel('alpha1')\n",
    "axs[0, 2].hist(accepted_values[:, 2], bins=30)\n",
    "axs[0, 2].set_xlabel('alpha2')\n",
    "axs[1, 0].hist(accepted_values[:, 3], bins=30)\n",
    "axs[1, 0].set_xlabel('alpha12')\n",
    "axs[1, 1].hist(accepted_values[:, 4], bins=30)\n",
    "axs[1, 1].set_xlabel('tau')\n",
    "plt.tight_layout()\n",
    "plt.show()"
   ]
  }
 ],
 "metadata": {
  "kernelspec": {
   "display_name": "Python 3 (ipykernel)",
   "language": "python",
   "name": "python3"
  },
  "language_info": {
   "codemirror_mode": {
    "name": "ipython",
    "version": 3
   },
   "file_extension": ".py",
   "mimetype": "text/x-python",
   "name": "python",
   "nbconvert_exporter": "python",
   "pygments_lexer": "ipython3",
   "version": "3.8.8"
  }
 },
 "nbformat": 4,
 "nbformat_minor": 5
}
